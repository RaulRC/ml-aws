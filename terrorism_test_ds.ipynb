{
 "cells": [
  {
   "cell_type": "code",
   "execution_count": 30,
   "metadata": {
    "collapsed": true
   },
   "outputs": [],
   "source": [
    "# Load libraries\n",
    "import pandas\n",
    "from pandas.tools.plotting import scatter_matrix\n",
    "from sklearn import model_selection\n",
    "from sklearn.metrics import classification_report\n",
    "from sklearn.metrics import confusion_matrix\n",
    "from sklearn.metrics import accuracy_score\n",
    "from sklearn.linear_model import LogisticRegression\n",
    "from sklearn.tree import DecisionTreeClassifier\n",
    "from sklearn.neighbors import KNeighborsClassifier\n",
    "from sklearn.discriminant_analysis import LinearDiscriminantAnalysis\n",
    "from sklearn.naive_bayes import GaussianNB\n",
    "from sklearn.svm import SVC"
   ]
  },
  {
   "cell_type": "code",
   "execution_count": 31,
   "metadata": {
    "collapsed": false
   },
   "outputs": [],
   "source": [
    "\n",
    "# Create file object for outputs\n",
    "outputFile = open(\"output.txt\", \"w\")\n",
    "\n",
    "# Load dataset\n",
    "url = \"data/terrorism.csv\"\n",
    "dataset = pandas.read_csv(url)\n",
    "dataset = dataset[[\"eventid\", \"iyear\", \"imonth\", \"iday\", \"country\"]][:10000]"
   ]
  },
  {
   "cell_type": "code",
   "execution_count": 32,
   "metadata": {
    "collapsed": false
   },
   "outputs": [],
   "source": [
    "# Split-out validation dataset\n",
    "array = dataset.values\n",
    "X = array[:,0:4]\n",
    "Y = array[:,4]\n",
    "validation_size = 0.20\n",
    "seed = 7\n",
    "X_train, X_validation, Y_train, Y_validation = model_selection.train_test_split(X, Y, test_size=validation_size, random_state=seed)\n",
    "\n",
    "# Test options and evaluation metric\n",
    "seed = 7\n",
    "scoring = 'accuracy'\n",
    "\n"
   ]
  },
  {
   "cell_type": "code",
   "execution_count": 33,
   "metadata": {
    "collapsed": false
   },
   "outputs": [
    {
     "name": "stdout",
     "output_type": "stream",
     "text": [
      "LR: 0.163500 (0.012155)\n",
      "LDA: 0.204500 (0.016020)\n",
      "KNN: 0.368625 (0.013947)\n",
      "CART: 0.349250 (0.016204)\n",
      "NB: 0.232000 (0.020365)\n",
      "SVM: 0.325750 (0.014908)\n"
     ]
    }
   ],
   "source": [
    "\n",
    "\n",
    "# Spot Check Algorithms\n",
    "models = []\n",
    "models.append(('LR', LogisticRegression()))\n",
    "models.append(('LDA', LinearDiscriminantAnalysis()))\n",
    "models.append(('KNN', KNeighborsClassifier()))\n",
    "models.append(('CART', DecisionTreeClassifier()))\n",
    "models.append(('NB', GaussianNB()))\n",
    "models.append(('SVM', SVC()))\n",
    "# evaluate each model in turn\n",
    "results = []\n",
    "names = []\n",
    "for name, model in models:\n",
    "    kfold = model_selection.KFold(n_splits=10, random_state=seed)\n",
    "    cv_results = model_selection.cross_val_score(model, X_train, Y_train, cv=kfold, scoring=scoring)\n",
    "    results.append(cv_results)\n",
    "    names.append(name)\n",
    "    msg = \"%s: %f (%f)\" % (name, cv_results.mean(), cv_results.std())\n",
    "    print(msg)\n",
    "    outputFile.write(msg + \"\\n\")\n"
   ]
  },
  {
   "cell_type": "code",
   "execution_count": 34,
   "metadata": {
    "collapsed": false
   },
   "outputs": [
    {
     "name": "stdout",
     "output_type": "stream",
     "text": [
      "0.3795\n",
      "[[  0   0   0 ...,   0   0   0]\n",
      " [  0   0   0 ...,   0   0   0]\n",
      " [  0   0   0 ...,   0   1   0]\n",
      " ..., \n",
      " [  0   0   0 ...,   0   0   0]\n",
      " [  1   2   0 ...,   0 166   0]\n",
      " [  0   0   0 ...,   0   0   0]]\n",
      "             precision    recall  f1-score   support\n",
      "\n",
      "          4       0.00      0.00      0.00         0\n",
      "          6       0.00      0.00      0.00         0\n",
      "          7       0.00      0.00      0.00         1\n",
      "          8       0.00      0.00      0.00         1\n",
      "         11       0.19      0.34      0.25        58\n",
      "         14       0.00      0.00      0.00         1\n",
      "         15       0.33      0.17      0.22         6\n",
      "         19       0.00      0.00      0.00         1\n",
      "         20       0.00      0.00      0.00         0\n",
      "         21       0.20      0.33      0.25         3\n",
      "         26       0.00      0.00      0.00         1\n",
      "         29       0.00      0.00      0.00         1\n",
      "         30       0.20      0.14      0.17         7\n",
      "         38       0.00      0.00      0.00         2\n",
      "         43       0.15      0.36      0.22        11\n",
      "         45       0.11      0.18      0.14        74\n",
      "         49       0.00      0.00      0.00         4\n",
      "         53       0.33      0.33      0.33         3\n",
      "         55       0.00      0.00      0.00         1\n",
      "         58       0.00      0.00      0.00         3\n",
      "         59       0.50      0.57      0.53         7\n",
      "         60       0.00      0.00      0.00         2\n",
      "         61       0.33      0.46      0.38        87\n",
      "         65       0.00      0.00      0.00         5\n",
      "         69       0.62      0.55      0.58       120\n",
      "         78       0.47      0.38      0.42        39\n",
      "         83       0.21      0.22      0.22        18\n",
      "         86       0.00      0.00      0.00         1\n",
      "         87       0.00      0.00      0.00         1\n",
      "         88       0.00      0.00      0.00         0\n",
      "         92       0.00      0.00      0.00         5\n",
      "         93       0.00      0.00      0.00         1\n",
      "         94       0.24      0.23      0.23        35\n",
      "         96       0.00      0.00      0.00        10\n",
      "         97       0.21      0.13      0.16        39\n",
      "         98       0.44      0.57      0.50       211\n",
      "        100       0.00      0.00      0.00         0\n",
      "        101       0.29      0.12      0.17        16\n",
      "        102       0.00      0.00      0.00         3\n",
      "        110       0.00      0.00      0.00        23\n",
      "        111       0.00      0.00      0.00         1\n",
      "        113       0.00      0.00      0.00         0\n",
      "        121       0.00      0.00      0.00         2\n",
      "        128       0.00      0.00      0.00         1\n",
      "        130       0.40      0.17      0.24        24\n",
      "        137       0.00      0.00      0.00         2\n",
      "        138       0.17      0.50      0.25         2\n",
      "        139       0.00      0.00      0.00         5\n",
      "        142       0.00      0.00      0.00         6\n",
      "        145       0.35      0.29      0.32        62\n",
      "        153       0.00      0.00      0.00         2\n",
      "        155       0.00      0.00      0.00         6\n",
      "        156       0.00      0.00      0.00         2\n",
      "        158       0.00      0.00      0.00         1\n",
      "        159       0.00      0.00      0.00         2\n",
      "        160       0.59      0.32      0.42        31\n",
      "        162       0.22      0.18      0.20        11\n",
      "        182       0.00      0.00      0.00         1\n",
      "        183       0.00      0.00      0.00         9\n",
      "        184       0.00      0.00      0.00         1\n",
      "        185       0.31      0.30      0.30       177\n",
      "        186       0.00      0.00      0.00         1\n",
      "        198       0.00      0.00      0.00         1\n",
      "        199       0.00      0.00      0.00         8\n",
      "        200       0.00      0.00      0.00        12\n",
      "        205       0.00      0.00      0.00         5\n",
      "        208       0.00      0.00      0.00         1\n",
      "        209       0.38      0.40      0.39        89\n",
      "        213       0.00      0.00      0.00         2\n",
      "        215       0.00      0.00      0.00         2\n",
      "        217       0.49      0.53      0.51       283\n",
      "        218       0.50      0.50      0.50         6\n",
      "        222       0.00      0.00      0.00         3\n",
      "        230       0.00      0.00      0.00         1\n",
      "        235       0.00      0.00      0.00         1\n",
      "        359       0.00      0.00      0.00         1\n",
      "        362       0.25      0.13      0.17        62\n",
      "        377       0.00      0.00      0.00         2\n",
      "        403       0.25      0.05      0.09        19\n",
      "        499       0.00      0.00      0.00         4\n",
      "        603       0.50      0.48      0.49       347\n",
      "        605       0.00      0.00      0.00         1\n",
      "\n",
      "avg / total       0.37      0.38      0.37      2000\n",
      "\n"
     ]
    },
    {
     "name": "stderr",
     "output_type": "stream",
     "text": [
      "/usr/local/lib/python2.7/dist-packages/sklearn/metrics/classification.py:1115: UndefinedMetricWarning: Recall and F-score are ill-defined and being set to 0.0 in labels with no true samples.\n",
      "  'recall', 'true', average, warn_for)\n"
     ]
    }
   ],
   "source": [
    "\n",
    "\n",
    "# Make predictions on validation dataset\n",
    "knn = KNeighborsClassifier()\n",
    "knn.fit(X_train, Y_train)\n",
    "predictions = knn.predict(X_validation)\n",
    "accScore = accuracy_score(Y_validation, predictions)\n",
    "confMatrix = confusion_matrix(Y_validation, predictions)\n",
    "classReport = classification_report(Y_validation, predictions)\n",
    "print(accScore)\n",
    "print(confMatrix)\n",
    "print(classReport)\n",
    "outputFile.write(str(accScore) + \"\\n\")\n",
    "outputFile.write(str(confMatrix) + \"\\n\")\n",
    "outputFile.write(str(classReport) + \"\\n\")\n",
    "outputFile.close()"
   ]
  },
  {
   "cell_type": "code",
   "execution_count": null,
   "metadata": {
    "collapsed": true
   },
   "outputs": [],
   "source": []
  }
 ],
 "metadata": {
  "kernelspec": {
   "display_name": "Python 2",
   "language": "python",
   "name": "python2"
  },
  "language_info": {
   "codemirror_mode": {
    "name": "ipython",
    "version": 2
   },
   "file_extension": ".py",
   "mimetype": "text/x-python",
   "name": "python",
   "nbconvert_exporter": "python",
   "pygments_lexer": "ipython2",
   "version": "2.7.12"
  }
 },
 "nbformat": 4,
 "nbformat_minor": 2
}
